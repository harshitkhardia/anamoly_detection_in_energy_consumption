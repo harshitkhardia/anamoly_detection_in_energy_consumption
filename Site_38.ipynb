{
 "cells": [
  {
   "cell_type": "code",
   "execution_count": 2,
   "metadata": {},
   "outputs": [],
   "source": [
    "import pandas as pd\n",
    "import numpy as np\n",
    "from sklearn.metrics import mean_squared_error\n",
    "from sklearn.metrics import accuracy_score, confusion_matrix\n",
    "from random import sample, seed, shuffle\n",
    "import time\n",
    "import torch\n",
    "import torch.nn as nn\n",
    "import torch.optim as optim\n",
    "import torch.autograd as autograd\n",
    "import torch.nn.functional as F\n",
    "import matplotlib.pyplot as plt\n",
    "import copy\n",
    "import pickle\n",
    "from sklearn.metrics import mean_squared_error as MSE\n",
    "from sklearn.preprocessing import StandardScaler\n",
    "from sklearn.model_selection import train_test_split\n",
    "from sklearn.metrics import auc, accuracy_score, confusion_matrix\n",
    "from sklearn.decomposition import PCA, KernelPCA, FastICA\n",
    "import seaborn as sns\n",
    "import datetime\n",
    "from scipy import stats\n",
    "import os"
   ]
  },
  {
   "cell_type": "code",
   "execution_count": 3,
   "metadata": {},
   "outputs": [
    {
     "name": "stdout",
     "output_type": "stream",
     "text": [
      "1.8.1\n"
     ]
    }
   ],
   "source": [
    "#Checking the PyTorch version installed\n",
    "print(torch.__version__)"
   ]
  },
  {
   "cell_type": "markdown",
   "metadata": {},
   "source": [
    "## 1. From raw data to a tidy dataset"
   ]
  },
  {
   "cell_type": "code",
   "execution_count": 4,
   "metadata": {
    "scrolled": true
   },
   "outputs": [
    {
     "name": "stderr",
     "output_type": "stream",
     "text": [
      "C:\\Users\\harsh\\anaconda3\\lib\\site-packages\\IPython\\core\\interactiveshell.py:3146: DtypeWarning: Columns (1) have mixed types.Specify dtype option on import or set low_memory=False.\n",
      "  has_raised = await self.run_ast_nodes(code_ast.body, cell_name,\n"
     ]
    }
   ],
   "source": [
    "# Loading the raw data\n",
    "weather = pd.read_csv(\"/users/harsh/mtp/Detecting_anomalies_building_energy_usage/data/raw/weather.csv\")\n",
    "holidays = pd.read_csv(\"/users/harsh/mtp/Detecting_anomalies_building_energy_usage/data/raw/holidays.csv\")\n",
    "train = pd.read_csv(\"/users/harsh/mtp/Detecting_anomalies_building_energy_usage/data/raw/train.csv\")\n",
    "metadata = pd.read_csv(\"/users/harsh/mtp/Detecting_anomalies_building_energy_usage/data/raw/metadata.csv\")"
   ]
  },
  {
   "cell_type": "code",
   "execution_count": 5,
   "metadata": {
    "scrolled": true
   },
   "outputs": [
    {
     "data": {
      "text/plain": [
       "array([2, 863, 869, 872, 875, 878, 881, 884, 887, 890, 896, 902, 911, 920,\n",
       "       925, 928, 930, 935, 938, '938', '234_203', '334_61', '38_0',\n",
       "       '38_1', '38_10106', '38_10107', '38_10108', '38_10109', '38_10110',\n",
       "       '38_10111', '38_10112', '38_10113', '38_10114', '38_10115',\n",
       "       '38_10116', '38_10117', '38_10118', '38_10119', '38_10120',\n",
       "       '38_10121', '38_10122', '38_10123', '38_10124', '38_10125',\n",
       "       '38_10126', '38_2', '38_52306', '38_52322', '38_52323', '38_52324',\n",
       "       '38_52325', '38_52326', '38_52327', '38_52328', '38_52329',\n",
       "       '38_52332', '38_52333', '38_52375', '38_52379', '38_52467',\n",
       "       '38_52468', '38_52469', '38_52470', '38_52471', '38_52472',\n",
       "       '38_52473', '38_52474', '38_52475', '38_52476', '38_52477',\n",
       "       '38_52478', '38_52479', '38_52480', '38_52481', '38_52482',\n",
       "       '38_56030', '38_56031', '38_56032', '38_56033', '38_56034',\n",
       "       '38_56727', '38_56728', '38_56729', '38_56730', '38_56731',\n",
       "       '38_56732', '38_56733', '38_56734', '38_56735', '38_56736',\n",
       "       '38_56737', '38_56738', '38_56739', '38_56740', '38_56741',\n",
       "       '38_56742', '38_56743', '38_56744', '38_56973', '38_59654',\n",
       "       '38_59804', '38_9678', '38_9679', '38_9680', '38_9681', '38_9682',\n",
       "       '38_9683', '38_9684', '38_9685', '38_9686', '38_9687', '38_9688',\n",
       "       '38_9689', '38_9693', '38_9694', '38_9695', '38_9696', '38_9697',\n",
       "       '38_9698', '38_9699', '38_9702', '38_9703', '38_9704', '38_9705',\n",
       "       '38_9706', '38_9707', '38_9708', '38_9709', '38_9710', '38_9711',\n",
       "       '38_9712', '38_9713', '38_9714', '38_9715', '38_9716', '38_9717',\n",
       "       '38_9718', '38_9719', '38_9720', '38_9725', '38_9726', '38_9727',\n",
       "       '38_9728', '38_9729', '38_9730', '38_9731', '38_9732', '38_9733',\n",
       "       '38_9737', '38_9738', '38_9739', '38_9740', '38_9741', '38_9742',\n",
       "       '38_9743', '38_9747', '38_9748', '38_9749', '38_9751', '38_9752',\n",
       "       '38_9753', '38_9754', '38_9755', '38_9756', '38_9757', '38_9758',\n",
       "       '38_9759', '38_9760', '38_9761', '38_9762', '38_9763', '38_9764',\n",
       "       '38_9765', '38_9766', '38_9787', '38_9788', '38_9789', '38_9790',\n",
       "       '38_9791', '38_9792', '38_9793', '38_9794', '38_9795', '38_9796',\n",
       "       '38_9797', '38_9798', '38_9799', '38_9801'], dtype=object)"
      ]
     },
     "execution_count": 5,
     "metadata": {},
     "output_type": "execute_result"
    }
   ],
   "source": [
    "train['meter_id'].unique()"
   ]
  },
  {
   "cell_type": "code",
   "execution_count": 6,
   "metadata": {},
   "outputs": [],
   "source": [
    "train = train[train['meter_id'] == '38_9686']\n",
    "train['Timestamp'] = pd.to_datetime(train['Timestamp'])\n",
    "train['Weekday'] = train['Timestamp'].dt.weekday\n",
    "train['Hour'] = train['Timestamp'].dt.hour\n",
    "train['Month'] = train['Timestamp'].dt.month"
   ]
  },
  {
   "cell_type": "code",
   "execution_count": 7,
   "metadata": {},
   "outputs": [],
   "source": [
    "# Some datasets have duplicates, this cell it take care of it\n",
    "train = train.groupby(['Timestamp']).first()\n",
    "train.reset_index(level=0, inplace=True)"
   ]
  },
  {
   "cell_type": "code",
   "execution_count": 8,
   "metadata": {},
   "outputs": [
    {
     "data": {
      "image/png": "[encoded data removed]",
      "text/plain": [
       "<Figure size 432x288 with 1 Axes>"
      ]
     },
     "metadata": {
      "needs_background": "light"
     },
     "output_type": "display_data"
    }
   ],
   "source": [
    "plt.plot(train['Values'].iloc[:1000])\n",
    "plt.show()"
   ]
  },
  {
   "cell_type": "code",
   "execution_count": 9,
   "metadata": {},
   "outputs": [
    {
     "name": "stderr",
     "output_type": "stream",
     "text": [
      "C:\\Users\\harsh\\anaconda3\\lib\\site-packages\\pandas\\core\\indexing.py:670: SettingWithCopyWarning: \n",
      "A value is trying to be set on a copy of a slice from a DataFrame\n",
      "\n",
      "See the caveats in the documentation: https://pandas.pydata.org/pandas-docs/stable/user_guide/indexing.html#returning-a-view-versus-a-copy\n",
      "  iloc._setitem_with_indexer(indexer, value)\n"
     ]
    }
   ],
   "source": [
    "# We take the difference of adjacent values of energy consumption since these values are cumulated \n",
    "train['ValuesDiff'] = 0\n",
    "train['ValuesDiff'].iloc[1:-1] = train['Values'].iloc[1:-1].values - train['Values'].iloc[:-2].values"
   ]
  },
  {
   "cell_type": "code",
   "execution_count": 10,
   "metadata": {},
   "outputs": [
    {
     "data": {
      "image/png": "[encoded data removed]",
      "text/plain": [
       "<Figure size 432x288 with 1 Axes>"
      ]
     },
     "metadata": {
      "needs_background": "light"
     },
     "output_type": "display_data"
    }
   ],
   "source": [
    "plt.plot(train.loc[:1000,'ValuesDiff'])\n",
    "plt.show()"
   ]
  },
  {
   "cell_type": "code",
   "execution_count": 11,
   "metadata": {},
   "outputs": [
    {
     "name": "stdout",
     "output_type": "stream",
     "text": [
      "Using matplotlib backend: Qt5Agg\n"
     ]
    },
    {
     "data": {
      "text/plain": [
       "<AxesSubplot:xlabel='Timestamp'>"
      ]
     },
     "execution_count": 11,
     "metadata": {},
     "output_type": "execute_result"
    }
   ],
   "source": [
    "%matplotlib\n",
    "train.plot(y='ValuesDiff',x='Timestamp')"
   ]
  },
  {
   "cell_type": "markdown",
   "metadata": {},
   "source": [
    "#### 1.1 Adding the Holidays column"
   ]
  },
  {
   "cell_type": "code",
   "execution_count": 12,
   "metadata": {
    "scrolled": true
   },
   "outputs": [],
   "source": [
    "train['Date'] = train['Timestamp'].dt.strftime('%Y-%m-%d')\n",
    "holidays = pd.DataFrame(\n",
    "    holidays[holidays['site_id'] == \"038\"].groupby(['Date']).first())\n",
    "holidays.reset_index(level=0, inplace=True)\n",
    "train = train.merge(holidays, how='left', on = 'Date')\n",
    "del train['Date']\n",
    "train['Holiday'] = [isinstance(d, str)*1 for d in train['Holiday']]"
   ]
  },
  {
   "cell_type": "markdown",
   "metadata": {},
   "source": [
    "#### 1.2 Adding the Temperature column"
   ]
  },
  {
   "cell_type": "code",
   "execution_count": 13,
   "metadata": {},
   "outputs": [],
   "source": [
    "weather['Timestamp'] = pd.to_datetime(weather['Timestamp'])\n",
    "weather['Date'] = weather['Timestamp'].apply(lambda dt: datetime.datetime(dt.year, \n",
    "                                                                      dt.month, \n",
    "                                                                      dt.day, \n",
    "                                                                      dt.hour))\n",
    "weather = pd.DataFrame(\n",
    "    weather[weather['site_id'] == \"38\"].groupby(['Date'])['Temperature'].mean())\n",
    "weather.reset_index(level=0, inplace=True)\n",
    "train['Date'] = train['Timestamp'].apply(lambda dt: datetime.datetime(dt.year, \n",
    "                                                                      dt.month, \n",
    "                                                                      dt.day, \n",
    "                                                                      dt.hour))\n",
    "train = train.merge(weather, how='left', on='Date')\n",
    "del train['Date']"
   ]
  },
  {
   "cell_type": "markdown",
   "metadata": {},
   "source": [
    "#### 1.3 Determining buckets of energy consumption (for the predictive model below)"
   ]
  },
  {
   "cell_type": "code",
   "execution_count": 14,
   "metadata": {},
   "outputs": [],
   "source": [
    "def consumption_label(x):\n",
    "    if x >= np.percentile(train['ValuesDiff'], 99):\n",
    "        return 'VeryHigh'\n",
    "    elif x >= np.percentile(train['ValuesDiff'], 95):\n",
    "        return 'High'\n",
    "    elif x >= np.percentile(train['ValuesDiff'], 80):\n",
    "        return 'MediumHigh'\n",
    "    elif x >= np.percentile(train['ValuesDiff'], 60):\n",
    "        return 'Medium'\n",
    "    elif x >= np.percentile(train['ValuesDiff'], 40):\n",
    "        return 'MediumLow'\n",
    "    elif x >= np.percentile(train['ValuesDiff'], 20):\n",
    "        return 'Low'\n",
    "    elif x >= np.percentile(train['ValuesDiff'], 5):\n",
    "        return 'VeryLow'\n",
    "    elif x >= np.percentile(train['ValuesDiff'], 1):\n",
    "        return 'StandBy'\n",
    "    else:\n",
    "        return 'Off'"
   ]
  },
  {
   "cell_type": "code",
   "execution_count": 15,
   "metadata": {},
   "outputs": [],
   "source": [
    "# We chose to focus on the most recent years for our analysis, but it can surely run for all the dataset\n",
    "train = train[train['Timestamp'] > \"2016-01-01\"]"
   ]
  },
  {
   "cell_type": "code",
   "execution_count": 16,
   "metadata": {},
   "outputs": [],
   "source": [
    "train['ValuesDiff'] = train['ValuesDiff'].fillna(-1)\n",
    "# Sometimes the meter resets, therefore we set the next value as NA, i.e., equal to -1\n",
    "train.loc[train['ValuesDiff'] < -1e+06, 'ValuesDiff'] = -1\n",
    "train['target'] = train['ValuesDiff'].apply(lambda row: consumption_label(row), 1)"
   ]
  },
  {
   "cell_type": "markdown",
   "metadata": {},
   "source": [
    "#### 1.4 Handling temperature missing values"
   ]
  },
  {
   "cell_type": "code",
   "execution_count": 17,
   "metadata": {},
   "outputs": [],
   "source": [
    "# Reseting indexes, this is important for the function that handles missing values\n",
    "train.reset_index(inplace=True)\n",
    "\n",
    "# Deleting some useless columns\n",
    "del train['index']\n",
    "del train['Unnamed: 0']\n",
    "del train['row_id']\n",
    "del train['site_id']"
   ]
  },
  {
   "cell_type": "code",
   "execution_count": 18,
   "metadata": {},
   "outputs": [],
   "source": [
    " def impute_values(indexes, x):\n",
    "    \"\"\"\n",
    "    This function will be used to fill na's in the temperature column. It will firstly find add \"blocks\" \n",
    "    of na's, i.e, sequence of consecutives na's. Then, it interpolates the missing values by using the \n",
    "    temperature values before and after the beggining of the na block.\n",
    "    \n",
    "    Arguments:\n",
    "        indexes: Pandas DataFrame of na's indexes\n",
    "        x: the Pandas DataFrame column with temperatures\n",
    "    \"\"\"\n",
    "    \n",
    "    tmp = []\n",
    "    \n",
    "    blocks = []\n",
    "    \n",
    "    start_block = indexes[0]\n",
    "    \n",
    "    for idx in indexes:\n",
    "        \n",
    "        if start_block < 0:\n",
    "            start_block = idx\n",
    "        \n",
    "        if (idx+1) in indexes:\n",
    "            continue\n",
    "        else:\n",
    "            blocks.append([start_block, idx])\n",
    "            start_block = -1\n",
    "    \n",
    "    tmp = np.array([])\n",
    "    for begin, end in blocks:\n",
    "        \n",
    "        if begin == 0:\n",
    "            last_val = x[end+1]\n",
    "            next_val = x[end+1]\n",
    "        elif end == len(x)-1:\n",
    "            last_val = x[begin-1]\n",
    "            next_val = x[begin-1]\n",
    "        else:\n",
    "            last_val = x[begin-1]\n",
    "            next_val = x[end+1]\n",
    "\n",
    "        imputation = np.repeat((last_val+next_val)/2, end-begin +1)\n",
    "        \n",
    "        tmp = np.concatenate((tmp, imputation))\n",
    "    \n",
    "    return tmp"
   ]
  },
  {
   "cell_type": "code",
   "execution_count": 19,
   "metadata": {},
   "outputs": [
    {
     "data": {
      "text/html": [
       "<div>\n",
       "<style scoped>\n",
       "    .dataframe tbody tr th:only-of-type {\n",
       "        vertical-align: middle;\n",
       "    }\n",
       "\n",
       "    .dataframe tbody tr th {\n",
       "        vertical-align: top;\n",
       "    }\n",
       "\n",
       "    .dataframe thead th {\n",
       "        text-align: right;\n",
       "    }\n",
       "</style>\n",
       "<table border=\"1\" class=\"dataframe\">\n",
       "  <thead>\n",
       "    <tr style=\"text-align: right;\">\n",
       "      <th></th>\n",
       "      <th>Timestamp</th>\n",
       "      <th>meter_id</th>\n",
       "      <th>Values</th>\n",
       "      <th>Weekday</th>\n",
       "      <th>Hour</th>\n",
       "      <th>Month</th>\n",
       "      <th>ValuesDiff</th>\n",
       "      <th>Holiday</th>\n",
       "      <th>Temperature</th>\n",
       "      <th>target</th>\n",
       "    </tr>\n",
       "  </thead>\n",
       "  <tbody>\n",
       "    <tr>\n",
       "      <th>0</th>\n",
       "      <td>2016-01-01 00:15:00</td>\n",
       "      <td>38_9686</td>\n",
       "      <td>7.936775e+05</td>\n",
       "      <td>4</td>\n",
       "      <td>0</td>\n",
       "      <td>1</td>\n",
       "      <td>51.7500</td>\n",
       "      <td>1</td>\n",
       "      <td>5.0</td>\n",
       "      <td>Off</td>\n",
       "    </tr>\n",
       "    <tr>\n",
       "      <th>1</th>\n",
       "      <td>2016-01-01 00:30:00</td>\n",
       "      <td>38_9686</td>\n",
       "      <td>7.937304e+05</td>\n",
       "      <td>4</td>\n",
       "      <td>0</td>\n",
       "      <td>1</td>\n",
       "      <td>52.9375</td>\n",
       "      <td>1</td>\n",
       "      <td>5.0</td>\n",
       "      <td>Off</td>\n",
       "    </tr>\n",
       "    <tr>\n",
       "      <th>2</th>\n",
       "      <td>2016-01-01 00:45:00</td>\n",
       "      <td>38_9686</td>\n",
       "      <td>7.937929e+05</td>\n",
       "      <td>4</td>\n",
       "      <td>0</td>\n",
       "      <td>1</td>\n",
       "      <td>62.5000</td>\n",
       "      <td>1</td>\n",
       "      <td>5.0</td>\n",
       "      <td>StandBy</td>\n",
       "    </tr>\n",
       "    <tr>\n",
       "      <th>3</th>\n",
       "      <td>2016-01-01 01:00:00</td>\n",
       "      <td>38_9686</td>\n",
       "      <td>7.938486e+05</td>\n",
       "      <td>4</td>\n",
       "      <td>1</td>\n",
       "      <td>1</td>\n",
       "      <td>55.6875</td>\n",
       "      <td>1</td>\n",
       "      <td>5.0</td>\n",
       "      <td>Off</td>\n",
       "    </tr>\n",
       "    <tr>\n",
       "      <th>4</th>\n",
       "      <td>2016-01-01 01:15:00</td>\n",
       "      <td>38_9686</td>\n",
       "      <td>7.939012e+05</td>\n",
       "      <td>4</td>\n",
       "      <td>1</td>\n",
       "      <td>1</td>\n",
       "      <td>52.6250</td>\n",
       "      <td>1</td>\n",
       "      <td>5.0</td>\n",
       "      <td>Off</td>\n",
       "    </tr>\n",
       "    <tr>\n",
       "      <th>...</th>\n",
       "      <td>...</td>\n",
       "      <td>...</td>\n",
       "      <td>...</td>\n",
       "      <td>...</td>\n",
       "      <td>...</td>\n",
       "      <td>...</td>\n",
       "      <td>...</td>\n",
       "      <td>...</td>\n",
       "      <td>...</td>\n",
       "      <td>...</td>\n",
       "    </tr>\n",
       "    <tr>\n",
       "      <th>67619</th>\n",
       "      <td>2017-12-05 09:00:00</td>\n",
       "      <td>38_9686</td>\n",
       "      <td>1.062107e+06</td>\n",
       "      <td>1</td>\n",
       "      <td>9</td>\n",
       "      <td>12</td>\n",
       "      <td>368.3750</td>\n",
       "      <td>0</td>\n",
       "      <td>NaN</td>\n",
       "      <td>VeryHigh</td>\n",
       "    </tr>\n",
       "    <tr>\n",
       "      <th>67620</th>\n",
       "      <td>2017-12-05 09:15:00</td>\n",
       "      <td>38_9686</td>\n",
       "      <td>1.062506e+06</td>\n",
       "      <td>1</td>\n",
       "      <td>9</td>\n",
       "      <td>12</td>\n",
       "      <td>398.7500</td>\n",
       "      <td>0</td>\n",
       "      <td>NaN</td>\n",
       "      <td>VeryHigh</td>\n",
       "    </tr>\n",
       "    <tr>\n",
       "      <th>67621</th>\n",
       "      <td>2017-12-05 09:30:00</td>\n",
       "      <td>38_9686</td>\n",
       "      <td>NaN</td>\n",
       "      <td>1</td>\n",
       "      <td>9</td>\n",
       "      <td>12</td>\n",
       "      <td>-1.0000</td>\n",
       "      <td>0</td>\n",
       "      <td>NaN</td>\n",
       "      <td>Off</td>\n",
       "    </tr>\n",
       "    <tr>\n",
       "      <th>67622</th>\n",
       "      <td>2017-12-05 09:45:00</td>\n",
       "      <td>38_9686</td>\n",
       "      <td>NaN</td>\n",
       "      <td>1</td>\n",
       "      <td>9</td>\n",
       "      <td>12</td>\n",
       "      <td>-1.0000</td>\n",
       "      <td>0</td>\n",
       "      <td>NaN</td>\n",
       "      <td>Off</td>\n",
       "    </tr>\n",
       "    <tr>\n",
       "      <th>67623</th>\n",
       "      <td>2017-12-05 10:00:00</td>\n",
       "      <td>38_9686</td>\n",
       "      <td>NaN</td>\n",
       "      <td>1</td>\n",
       "      <td>10</td>\n",
       "      <td>12</td>\n",
       "      <td>0.0000</td>\n",
       "      <td>0</td>\n",
       "      <td>NaN</td>\n",
       "      <td>Off</td>\n",
       "    </tr>\n",
       "  </tbody>\n",
       "</table>\n",
       "<p>67624 rows × 10 columns</p>\n",
       "</div>"
      ],
      "text/plain": [
       "                Timestamp meter_id        Values  Weekday  Hour  Month  \\\n",
       "0     2016-01-01 00:15:00  38_9686  7.936775e+05        4     0      1   \n",
       "1     2016-01-01 00:30:00  38_9686  7.937304e+05        4     0      1   \n",
       "2     2016-01-01 00:45:00  38_9686  7.937929e+05        4     0      1   \n",
       "3     2016-01-01 01:00:00  38_9686  7.938486e+05        4     1      1   \n",
       "4     2016-01-01 01:15:00  38_9686  7.939012e+05        4     1      1   \n",
       "...                   ...      ...           ...      ...   ...    ...   \n",
       "67619 2017-12-05 09:00:00  38_9686  1.062107e+06        1     9     12   \n",
       "67620 2017-12-05 09:15:00  38_9686  1.062506e+06        1     9     12   \n",
       "67621 2017-12-05 09:30:00  38_9686           NaN        1     9     12   \n",
       "67622 2017-12-05 09:45:00  38_9686           NaN        1     9     12   \n",
       "67623 2017-12-05 10:00:00  38_9686           NaN        1    10     12   \n",
       "\n",
       "       ValuesDiff  Holiday  Temperature    target  \n",
       "0         51.7500        1          5.0       Off  \n",
       "1         52.9375        1          5.0       Off  \n",
       "2         62.5000        1          5.0   StandBy  \n",
       "3         55.6875        1          5.0       Off  \n",
       "4         52.6250        1          5.0       Off  \n",
       "...           ...      ...          ...       ...  \n",
       "67619    368.3750        0          NaN  VeryHigh  \n",
       "67620    398.7500        0          NaN  VeryHigh  \n",
       "67621     -1.0000        0          NaN       Off  \n",
       "67622     -1.0000        0          NaN       Off  \n",
       "67623      0.0000        0          NaN       Off  \n",
       "\n",
       "[67624 rows x 10 columns]"
      ]
     },
     "execution_count": 19,
     "metadata": {},
     "output_type": "execute_result"
    }
   ],
   "source": [
    "train"
   ]
  },
  {
   "cell_type": "code",
   "execution_count": 20,
   "metadata": {},
   "outputs": [],
   "source": [
    "imputed_temperatures = impute_values(train[train['Temperature'].isnull()].index, \n",
    "                                     train['Temperature'])\n",
    "train.loc[train['Temperature'].isnull(), 'Temperature'] = imputed_temperatures"
   ]
  },
  {
   "cell_type": "markdown",
   "metadata": {},
   "source": [
    "#### 1.5 Pickling the dataset to gain some time for the next time"
   ]
  },
  {
   "cell_type": "code",
   "execution_count": 21,
   "metadata": {},
   "outputs": [],
   "source": [
    "pickle.dump(train, open(os.path.join(os.getcwd(),'data\\\\train_prediction_38.pkl'), \"wb\"))"
   ]
  },
  {
   "cell_type": "code",
   "execution_count": 58,
   "metadata": {},
   "outputs": [],
   "source": [
    "train = pickle.load(open(os.path.join(os.getcwd(),'data\\\\train_prediction_38.pkl'), \"rb\"))"
   ]
  },
  {
   "cell_type": "code",
   "execution_count": 59,
   "metadata": {},
   "outputs": [
    {
     "data": {
      "text/plain": [
       "<AxesSubplot:xlabel='Timestamp'>"
      ]
     },
     "execution_count": 59,
     "metadata": {},
     "output_type": "execute_result"
    }
   ],
   "source": [
    "train.plot(y='ValuesDiff',x='Timestamp')"
   ]
  },
  {
   "cell_type": "markdown",
   "metadata": {},
   "source": [
    "## 2. Building the predictive model"
   ]
  },
  {
   "cell_type": "markdown",
   "metadata": {},
   "source": [
    "#### 2.1 Preliminar steps"
   ]
  },
  {
   "cell_type": "code",
   "execution_count": 24,
   "metadata": {},
   "outputs": [
    {
     "data": {
      "text/plain": [
       "StandardScaler()"
      ]
     },
     "execution_count": 24,
     "metadata": {},
     "output_type": "execute_result"
    }
   ],
   "source": [
    "features = ['ValuesDiff', 'Holiday', 'Temperature', 'Weekday', 'Hour', 'Month']\n",
    "feature_scaler = StandardScaler()\n",
    "feature_scaler.fit(train[features])"
   ]
  },
  {
   "cell_type": "code",
   "execution_count": 25,
   "metadata": {},
   "outputs": [],
   "source": [
    "def generate_df(df, sequence_length):\n",
    "    \"\"\"\n",
    "    This function builds a tidy dataset to be used as input to a LSTM. \n",
    "    It returns a tensor of the shape [nb_records, 3*sequence_length+2, feature_size] and a vector\n",
    "    of shape [nb_records] having the target values to predict.\n",
    "    \n",
    "    The main idea is to give the model an intraday pattern twice (two previous weeks) and an\n",
    "    same but incomplete pattern for the current week so that the model has to predict only the\n",
    "    last value of the pattern.\n",
    "    \n",
    "    Arguments:\n",
    "        df: Pandas DataFrame containing the energy consumption data\n",
    "        sequence_length: length of the pattern to recognize\n",
    "    \"\"\"\n",
    "    \n",
    "    target_labels = ['Off', 'StandBy', 'VeryLow', 'Low', 'MediumLow', 'Medium', 'MediumHigh', 'High','VeryHigh']\n",
    "    target_labels = np.array(target_labels)\n",
    "    \n",
    "    X = []\n",
    "    y = []\n",
    "    \n",
    "    for i in range(96*7*2, len(df) - sequence_length - 1):\n",
    "        for j in range(3):\n",
    "            if j == 0:\n",
    "                tmp = feature_scaler.transform(df[features].iloc[i:(i+sequence_length)])\n",
    "            else:\n",
    "                ts = feature_scaler.transform(df[features].iloc[(i-j*96*7):(i+sequence_length-j*96*7+1)])\n",
    "                tmp = np.concatenate((tmp, ts), axis=0)\n",
    "            \n",
    "        X.append(tmp)\n",
    "        y.append(np.where(target_labels == df['target'].iloc[i+sequence_length + 1])[0][0])\n",
    "        \n",
    "    return np.array(X), np.array(y)"
   ]
  },
  {
   "cell_type": "code",
   "execution_count": 26,
   "metadata": {
    "scrolled": true
   },
   "outputs": [
    {
     "data": {
      "text/plain": [
       "(66271, 26, 6)"
      ]
     },
     "execution_count": 26,
     "metadata": {},
     "output_type": "execute_result"
    }
   ],
   "source": [
    "train_sequences, train_labels = generate_df(train, 8)\n",
    "train_sequences.shape"
   ]
  },
  {
   "cell_type": "markdown",
   "metadata": {},
   "source": [
    "#### 2.2 Splitting train and test datasets"
   ]
  },
  {
   "cell_type": "code",
   "execution_count": 27,
   "metadata": {},
   "outputs": [],
   "source": [
    "idx_train, idx_val, _, _ = train_test_split(list(range(train_sequences.shape[0])), \n",
    "                                         np.zeros(train_sequences.shape[0]), \n",
    "                                         test_size=0.5, \n",
    "                                         random_state=2018)"
   ]
  },
  {
   "cell_type": "code",
   "execution_count": 28,
   "metadata": {},
   "outputs": [],
   "source": [
    "rnn_sequences = train_sequences[idx_train,:,:]\n",
    "rnn_labels = train_labels[idx_train]\n",
    "\n",
    "val_sequences = train_sequences[idx_val,:,:] \n",
    "val_labels = train_labels[idx_val]"
   ]
  },
  {
   "cell_type": "markdown",
   "metadata": {},
   "source": [
    "#### 2.3 Defining the predictive model"
   ]
  },
  {
   "cell_type": "code",
   "execution_count": 29,
   "metadata": {},
   "outputs": [],
   "source": [
    "def runValidation(model_dict, cm_print = False):\n",
    "    model = WinticsRNN(hidden_size=hidden_size, \n",
    "                       features_size=len(features))\n",
    "    \n",
    "    model.load_state_dict(model_dict)    \n",
    "    model.eval()\n",
    "    \n",
    "    sequences = torch.FloatTensor(val_sequences)\n",
    "    sequences = autograd.Variable(sequences)\n",
    "    \n",
    "    labels_true = torch.LongTensor(val_labels)\n",
    "    labels_true = autograd.Variable(labels_true)\n",
    "    \n",
    "    if torch.cuda.is_available():\n",
    "        model.cuda()\n",
    "        sequences = sequences.cuda()\n",
    "        labels_true = labels_true.cuda()\n",
    "    \n",
    "    labels_predicted = model(sequences)\n",
    "    loss = loss_function(labels_predicted, labels_true)\n",
    "    \n",
    "    _, labels_predicted = labels_predicted.max(1)\n",
    "    labels_predicted = labels_predicted.data.cpu().numpy()\n",
    "    \n",
    "    if cm_print:\n",
    "        print(\"Current Validation loss: %.3f\" % loss.data.cpu().numpy())\n",
    "        print(confusion_matrix(labels_predicted, val_labels))\n",
    "    \n",
    "    return accuracy_score(labels_predicted, val_labels)"
   ]
  },
  {
   "cell_type": "code",
   "execution_count": 30,
   "metadata": {},
   "outputs": [],
   "source": [
    "class WinticsRNN(nn.Module):\n",
    "    def __init__(self, hidden_size, features_size):\n",
    "        super(WinticsRNN, self).__init__()\n",
    "        self.hidden_size = hidden_size\n",
    "        self.features_size = features_size\n",
    "        \n",
    "        self.rnn = nn.LSTM(self.features_size, \n",
    "                          self.hidden_size, \n",
    "                          1, # This argument stands for the nb of layers \n",
    "                          dropout=0, \n",
    "                          batch_first = True)\n",
    "        \n",
    "        self.fc = nn.Linear(self.hidden_size, 9)\n",
    "\n",
    "    def forward(self, x):\n",
    "        \n",
    "        h0 = autograd.Variable(torch.zeros(1, x.size(0), self.hidden_size))\n",
    "        c0 = autograd.Variable(torch.zeros(1, x.size(0), self.hidden_size))\n",
    "\n",
    "        if torch.cuda.is_available():\n",
    "            h0, c0 = h0.cuda(), c0.cuda()\n",
    "\n",
    "        _, (x, _) = self.rnn(x, (h0, c0))\n",
    "        \n",
    "        x = torch.squeeze(x)\n",
    "        x = self.fc(x)\n",
    "        \n",
    "        return x"
   ]
  },
  {
   "cell_type": "markdown",
   "metadata": {},
   "source": [
    "#### 2.4 Training the model"
   ]
  },
  {
   "cell_type": "code",
   "execution_count": 31,
   "metadata": {
    "scrolled": true
   },
   "outputs": [
    {
     "name": "stdout",
     "output_type": "stream",
     "text": [
      "Epoch losses: 1.51\n",
      "Epoch nb: 1\n",
      "Current Validation loss: 0.984\n",
      "[[   0    0    0    0    0    0    0    0    0]\n",
      " [   0    0    0    0    0    0    0    0    0]\n",
      " [ 184 1105 3146  926   91   18    0    0    0]\n",
      " [  18  100 1416 3524  824  192    1    0    0]\n",
      " [  16   59  381 2132 5398 1233   99    4    0]\n",
      " [   5   47   18   52  413 4624 1301  134   30]\n",
      " [   2    0    0    0    0  654 3517 1162  310]\n",
      " [   0    0    0    0    0    0    0    0    0]\n",
      " [   0    0    0    0    0    0    0    0    0]]\n",
      "Validation Accuracy: 0.61\n",
      "Epoch losses: 0.92\n",
      "Epoch losses: 0.84\n",
      "Epoch losses: 0.81\n",
      "Epoch losses: 0.79\n",
      "Epoch nb: 41\n",
      "Current Validation loss: 0.763\n",
      "[[   0    0    0    0    0    0    0    0    0]\n",
      " [ 188  661  228   37   22    4    0    0    0]\n",
      " [  21  576 3384 1317   85   14    0    0    0]\n",
      " [   7   59 1090 3345  771   15    0    0    0]\n",
      " [   7   15  237 1813 5032  406    1    0    0]\n",
      " [   0    0   22  122  816 5816  943   10    0]\n",
      " [   1    0    0    0    0  466 3800  541   50]\n",
      " [   1    0    0    0    0    0  174  749  290]\n",
      " [   0    0    0    0    0    0    0    0    0]]\n",
      "Validation Accuracy: 0.69\n",
      "Epoch losses: 0.76\n",
      "Epoch losses: 0.74\n",
      "Epoch losses: 0.72\n",
      "Epoch losses: 0.71\n",
      "Epoch nb: 81\n",
      "Current Validation loss: 0.718\n",
      "[[   0    0    0    0    0    0    0    0    0]\n",
      " [ 185  655  224   34   17    1    0    0    0]\n",
      " [  28  574 3143 1027   64    4    0    0    0]\n",
      " [   7   72 1465 4232 1172   11    0    0    0]\n",
      " [   3    7   93 1154 4614  395    0    0    0]\n",
      " [   0    1   36  187  857 5826  825    2    0]\n",
      " [   1    2    0    0    2  484 3907  422    8]\n",
      " [   1    0    0    0    0    0  186  870  272]\n",
      " [   0    0    0    0    0    0    0    6   60]]\n",
      "Validation Accuracy: 0.70\n",
      "Epoch losses: 0.69\n",
      "Epoch losses: 0.69\n",
      "Epoch losses: 0.68\n",
      "Epoch losses: 0.67\n",
      "Epoch nb: 121\n",
      "Current Validation loss: 0.688\n",
      "[[  36    7    0    0    0    0    0    0    0]\n",
      " [ 160  703  271   32   12    1    0    0    0]\n",
      " [  19  518 3030  947   45    1    0    0    0]\n",
      " [   6   77 1507 4217 1010   15    0    0    0]\n",
      " [   2    2  125 1325 4915  376    1    0    0]\n",
      " [   0    0   27  112  741 5812  708    0    0]\n",
      " [   1    4    1    1    3  516 4052  434    7]\n",
      " [   1    0    0    0    0    0  157  853  217]\n",
      " [   0    0    0    0    0    0    0   13  116]]\n",
      "Validation Accuracy: 0.72\n",
      "Epoch losses: 0.66\n",
      "Epoch losses: 0.65\n",
      "Epoch losses: 0.65\n",
      "Epoch losses: 0.64\n",
      "Epoch nb: 161\n",
      "Current Validation loss: 0.661\n",
      "[[  89   12    0    2    1    0    0    0    0]\n",
      " [ 111  673  242   21   11    1    0    0    0]\n",
      " [  14  546 3028  868   42    0    0    0    0]\n",
      " [   6   71 1559 4330  942   13    0    0    0]\n",
      " [   3    4  113 1345 5205  456    3    0    0]\n",
      " [   0    0   18   67  522 5723  639    0    0]\n",
      " [   1    5    1    1    3  528 4129  449    7]\n",
      " [   0    0    0    0    0    0  147  837  210]\n",
      " [   1    0    0    0    0    0    0   14  123]]\n",
      "Validation Accuracy: 0.73\n",
      "Epoch losses: 0.64\n",
      "Epoch losses: 0.63\n",
      "Epoch losses: 0.63\n",
      "Epoch losses: 0.63\n",
      "Epoch nb: 201\n",
      "Current Validation loss: 0.643\n",
      "[[  78    9    2    3    1    0    0    0    0]\n",
      " [ 122  629  180   14    6    0    0    0    0]\n",
      " [  14  593 3005  749   40    0    0    0    0]\n",
      " [   7   76 1666 4489  930   12    0    0    0]\n",
      " [   2    1   98 1338 5375  502    3    0    0]\n",
      " [   0    0   10   41  370 5592  539    0    0]\n",
      " [   1    3    0    0    4  615 4193  401    6]\n",
      " [   0    0    0    0    0    0  183  873  140]\n",
      " [   1    0    0    0    0    0    0   26  194]]\n",
      "Validation Accuracy: 0.74\n",
      "Epoch losses: 0.63\n",
      "Epoch losses: 0.62\n",
      "Epoch losses: 0.62\n",
      "Epoch losses: 0.62\n",
      "Epoch nb: 241\n",
      "Current Validation loss: 0.632\n",
      "[[  83    9    2    2    2    0    0    0    0]\n",
      " [ 117  670  223   18    6    0    0    0    0]\n",
      " [  15  572 3258 1001   55    0    0    0    0]\n",
      " [   6   56 1403 4488 1075   12    0    0    0]\n",
      " [   2    2   74 1093 5275  537    3    0    0]\n",
      " [   0    0    1   32  313 5705  665    0    0]\n",
      " [   1    2    0    0    0  467 4059  379    5]\n",
      " [   0    0    0    0    0    0  191  889  122]\n",
      " [   1    0    0    0    0    0    0   32  213]]\n",
      "Validation Accuracy: 0.74\n",
      "Epoch losses: 0.62\n",
      "Epoch losses: 0.62\n",
      "Epoch losses: 0.62\n",
      "Epoch losses: 0.62\n",
      "Epoch nb: 281\n",
      "Current Validation loss: 0.627\n",
      "[[  87    6    2    2    1    0    0    0    0]\n",
      " [ 114  677  229   18    7    1    0    0    0]\n",
      " [  15  579 3317 1071   56    0    0    0    0]\n",
      " [   5   47 1347 4481 1117   13    0    0    0]\n",
      " [   2    0   65 1035 5261  545    3    0    0]\n",
      " [   0    0    1   27  284 5684  644    0    0]\n",
      " [   1    2    0    0    0  478 4030  324    4]\n",
      " [   0    0    0    0    0    0  241  924   90]\n",
      " [   1    0    0    0    0    0    0   52  246]]\n",
      "Validation Accuracy: 0.75\n"
     ]
    }
   ],
   "source": [
    "nbEpochs = 282\n",
    "hidden_size = 80\n",
    "batch_size = 256\n",
    "\n",
    "net = WinticsRNN(hidden_size=hidden_size, \n",
    "                 features_size=len(features))\n",
    "\n",
    "#### Uncomment the following line if you want to retrain a previously saved model\n",
    "# net.load_state_dict(torch.load(\"../Models/LSTM_80_38\"))\n",
    "\n",
    "if torch.cuda.is_available():\n",
    "    net.cuda()\n",
    "\n",
    "loss_function = nn.CrossEntropyLoss()\n",
    "optimizer = optim.Adam(net.parameters(), lr=0.001, weight_decay=0.01)\n",
    "epoch_losses = []\n",
    "\n",
    "best_model = net.state_dict()\n",
    "epoch_acc_list = [] \n",
    "\n",
    "for ep in range(nbEpochs):\n",
    "\n",
    "    avg_loss = []        \n",
    "            \n",
    "    net.train()\n",
    "\n",
    "    for i in range(rnn_sequences.shape[0] // batch_size):\n",
    "        \n",
    "        X_batch = rnn_sequences[i*batch_size:(i+1)*batch_size, :, :]\n",
    "        y_batch = rnn_labels[i*batch_size:(i+1)*batch_size]\n",
    "        \n",
    "        # [batch_size, sequence_length, features_size]\n",
    "        sequences = torch.FloatTensor(X_batch)\n",
    "        sequences = autograd.Variable(sequences)\n",
    "\n",
    "        labels_true = torch.LongTensor(y_batch)\n",
    "        labels_true = autograd.Variable(labels_true)\n",
    "        \n",
    "        if torch.cuda.is_available():\n",
    "            sequences = sequences.cuda()\n",
    "            labels_true = labels_true.cuda()\n",
    "        \n",
    "        labels_predicted = net(sequences)        \n",
    "        \n",
    "        net.zero_grad()\n",
    "        loss = loss_function(labels_predicted, labels_true)\n",
    "        loss.backward()    \n",
    "        optimizer.step()\n",
    "\n",
    "        avg_loss.append(loss.data.cpu().numpy()) \n",
    "    \n",
    "    #<Early stopping>\n",
    "    epoch_acc = runValidation(net.state_dict())\n",
    "    epoch_acc_list.append(epoch_acc)\n",
    "\n",
    "    if max(epoch_acc_list) <= epoch_acc:\n",
    "        best_model = net.state_dict()\n",
    "\n",
    "    if max(epoch_acc_list)/1.2 > epoch_acc:\n",
    "        print(\"Training stopped by early stopping !\")\n",
    "        print(\"Validation MSE: %.2f\" % (max(epoch_acc_list)))\n",
    "        plt.plot(epoch_acc_list)\n",
    "        plt.show()\n",
    "        break\n",
    "    #</Early stopping>\n",
    "    \n",
    "    if ep % 10 == 1:     \n",
    "        print(\"Epoch losses: %.2f\" % (np.mean(epoch_losses)))\n",
    "        if ep % 40 == 1:\n",
    "            print(\"Epoch nb: {}\".format(ep))\n",
    "            \n",
    "            print(\"Validation Accuracy: %.2f\" % runValidation(net.state_dict(), True))\n",
    "            \n",
    "            for param_group in optimizer.param_groups:\n",
    "                param_group['lr'] = param_group['lr'] * 0.8\n",
    "  \n",
    "        epoch_losses = []\n",
    "            \n",
    "    epoch_losses.append(np.mean(avg_loss))"
   ]
  },
  {
   "cell_type": "code",
   "execution_count": 32,
   "metadata": {},
   "outputs": [],
   "source": [
    "torch.save(best_model, os.path.join(os.getcwd(),'data\\\\Model\\\\LSTM_80_38\\\\38.pth'))\n",
    "best_model = torch.load(os.path.join(os.getcwd(),'data\\\\Model\\\\LSTM_80_38\\\\38.pth'))"
   ]
  },
  {
   "cell_type": "code",
   "execution_count": 57,
   "metadata": {},
   "outputs": [],
   "source": [
    "best_model = torch.load(os.path.join(os.getcwd(),'data\\\\Model\\\\LSTM_80_38\\\\38.pth'))"
   ]
  },
  {
   "cell_type": "markdown",
   "metadata": {},
   "source": [
    "#### 2.5 Evaluating the entropy of predictions"
   ]
  },
  {
   "cell_type": "code",
   "execution_count": 34,
   "metadata": {},
   "outputs": [],
   "source": [
    "def entropy(model_dict, sequences, labels):\n",
    "    \"\"\"\n",
    "    This function returns (i) the labels predicted by the model as well as (ii) the entropy \n",
    "    of predictions, which will serve as an indicator of the prediction's confidence.\n",
    "    Small entropies mean that the model is sure of what it is predicting, regardless\n",
    "    the target value.\n",
    "    \n",
    "    Arguments:\n",
    "        model_dict: PyTorch model dictionary, i.e., the output of net.state_dict()\n",
    "        sequences: RNN inputs, i.e., tensors of the form [nb_records, 3*sequence_length+2, feature_size]\n",
    "        labels: Target values (only used for some metric evaluation)\n",
    "    \"\"\"\n",
    "    model = WinticsRNN(hidden_size=hidden_size, \n",
    "                       features_size=len(features))\n",
    "    \n",
    "    model.load_state_dict(model_dict)\n",
    "    model.eval()\n",
    "    \n",
    "    sequences = torch.FloatTensor(sequences)\n",
    "    sequences = autograd.Variable(sequences)\n",
    "    \n",
    "    labels_true = torch.LongTensor(labels)\n",
    "    labels_true = autograd.Variable(labels_true)\n",
    "\n",
    "    if torch.cuda.is_available():\n",
    "        model.cuda()\n",
    "        sequences = sequences.cuda()\n",
    "        labels_true = labels_true.cuda()\n",
    "\n",
    "    labels_predicted = model(sequences)\n",
    "    \n",
    "    entropy = [exp_logits/torch.sum(exp_logits) for exp_logits in torch.exp(labels_predicted)]\n",
    "    entropy = [-torch.log(probs).dot(probs) for probs in entropy]\n",
    "    entropy = np.array([e.data.cpu().numpy() for e in entropy])\n",
    "    \n",
    "    _, labels_predicted = labels_predicted.max(1)\n",
    "    labels_predicted = labels_predicted.data.cpu().numpy()\n",
    "    \n",
    "    print(\"Dataset accuracy: %.3f\" % accuracy_score(labels_predicted, labels))\n",
    "    cm = confusion_matrix(labels_predicted, labels)\n",
    "    extended_diagonal = cm.trace()+cm[1:, :-1].trace()+cm[:-1, 1:].trace()\n",
    "    extended_diagonal_2 = extended_diagonal+cm[2:, :-2].trace()+cm[:-2, 2:].trace()\n",
    "    \n",
    "    print(\"Dataset extended accuracy (max gap 1): %.3f\" % (extended_diagonal/np.sum(cm)))\n",
    "    print(\"Dataset extended accuracy (max gap 2): %.3f\" % (extended_diagonal_2/np.sum(cm)))\n",
    "    \n",
    "    return labels_predicted, entropy"
   ]
  },
  {
   "cell_type": "code",
   "execution_count": 60,
   "metadata": {},
   "outputs": [
    {
     "name": "stdout",
     "output_type": "stream",
     "text": [
      "Dataset accuracy: 0.752\n",
      "Dataset extended accuracy (max gap 1): 0.993\n",
      "Dataset extended accuracy (max gap 2): 0.999\n"
     ]
    }
   ],
   "source": [
    "# Calculating the entropies for the training dataset\n",
    "overconsumption_train, entropy_train = entropy(best_model, rnn_sequences, rnn_labels)"
   ]
  },
  {
   "cell_type": "code",
   "execution_count": 61,
   "metadata": {},
   "outputs": [
    {
     "name": "stdout",
     "output_type": "stream",
     "text": [
      "Dataset accuracy: 0.746\n",
      "Dataset extended accuracy (max gap 1): 0.992\n",
      "Dataset extended accuracy (max gap 2): 0.999\n"
     ]
    }
   ],
   "source": [
    "# Calculating the entropies for the test dataset\n",
    "overconsumption_val, entropy_val = entropy(best_model, val_sequences, val_labels)"
   ]
  },
  {
   "cell_type": "code",
   "execution_count": 62,
   "metadata": {},
   "outputs": [],
   "source": [
    "# Creating a column 'entropy' in the original dataset \n",
    "train['entropy'] = 3.0\n",
    "train.loc[96*7*2+8+1+np.array(idx_val),'entropy'] = entropy_val[:]\n",
    "train.loc[96*7*2+8+1+np.array(idx_train), 'entropy'] = entropy_train[:]"
   ]
  },
  {
   "cell_type": "code",
   "execution_count": 63,
   "metadata": {},
   "outputs": [],
   "source": [
    "# Creating a column 'predicted' in the original dataset\n",
    "target_labels = ['Off', 'StandBy', 'VeryLow', 'Low', 'MediumLow', 'Medium', 'MediumHigh', 'High','VeryHigh']\n",
    "train['predicted'] = \"None\"\n",
    "train.loc[96*7*2+8+1+np.array(idx_val), 'predicted'] = [target_labels[v] for v in overconsumption_val]\n",
    "train.loc[96*7*2+8+1+np.array(idx_train), 'predicted'] = [target_labels[v] for v in overconsumption_train]"
   ]
  },
  {
   "cell_type": "markdown",
   "metadata": {},
   "source": [
    "#### 2.6 Determining the anomaly score"
   ]
  },
  {
   "cell_type": "code",
   "execution_count": 64,
   "metadata": {},
   "outputs": [],
   "source": [
    "def get_gap(row):\n",
    "    \"\"\"\n",
    "    This function returns the number of buckets lying between the prediction and the target value.\n",
    "    It will be applied to all the main dataset's lines.\n",
    "    \n",
    "    Arguments:\n",
    "        row: row of the dataset.\n",
    "    \"\"\"\n",
    "    if row['predicted'] in target_labels:\n",
    "        idx_pred = np.where(np.array(target_labels) == row['predicted'])[0][0]\n",
    "        idx_true = np.where(np.array(target_labels) == row['target'])[0][0]\n",
    "\n",
    "        return idx_true - idx_pred\n",
    "    else:\n",
    "        return 0"
   ]
  },
  {
   "cell_type": "code",
   "execution_count": 65,
   "metadata": {},
   "outputs": [],
   "source": [
    "train['gap'] = train.apply(lambda row: get_gap(row), 1)"
   ]
  },
  {
   "cell_type": "markdown",
   "metadata": {},
   "source": [
    "##### CRITERIA : the anomaly score\n",
    "\n",
    "The main motivation for that anomaly score is to catch two behaviours :\n",
    "\n",
    "    - Low entropy and low prediction gap:\n",
    "        The model is sure of what it is predicting, and still, there is a gap. This effect\n",
    "        increases the risk that the current measurement is actually an anomaly.\n",
    "    - Moderate enropy and high prediction gap:\n",
    "        If the gap is somehow higher than what the entropy measurement is expecting,\n",
    "        then the this energy measurement is a potential anomaly.\n",
    "\n",
    "Since there are 9 buckets, the maximum entropy we can possibly get is ln(9), which is about 2.2.\n",
    "\n",
    "Let's consider an arbitrary prediction. Suppose that its entropy is equal to 0.69, then, \n",
    "the mass of probabilities is very likely distributed to only 2 buckets (because ln(2) is about 0.69). \n",
    "Suppose that the gap between the prediction and the target value is 3. We have then a suspicious\n",
    "energy measurement: the probabilities are very high for only two buckets (probably one next \n",
    "to the other), and still the target value is 3 buckets away from the prediction.\n",
    "\n",
    "The same logic can be drawn for all gaps. I came up with the following formula:\n",
    "$$gap*exp(ln(9)-entropy)$$\n",
    "\n",
    "It will have high absolute values whenever something unexpected happens."
   ]
  },
  {
   "cell_type": "code",
   "execution_count": 66,
   "metadata": {},
   "outputs": [],
   "source": [
    "train['criteria'] = train['gap']*np.exp(3 - train['entropy'])"
   ]
  },
  {
   "cell_type": "markdown",
   "metadata": {},
   "source": [
    "#### 2.7 Rule-based approach (Percentiles)"
   ]
  },
  {
   "cell_type": "code",
   "execution_count": 67,
   "metadata": {},
   "outputs": [],
   "source": [
    "train['temp_bucket'] = train['Temperature'].apply(lambda row: np.round(row/5)*5)\n",
    "train['working_day'] = (train['Weekday'] < 5)&(train['Holiday'] == 0)"
   ]
  },
  {
   "cell_type": "code",
   "execution_count": 68,
   "metadata": {},
   "outputs": [],
   "source": [
    "def get_percentile(row):\n",
    "    \"\"\"\n",
    "    This function returns the percentile of the energy consumption measurement with respect\n",
    "    to (i) the Temperature, (ii) the type of day and (iii) the hour.\n",
    "    \n",
    "    Arguments:\n",
    "        row: row of the dataset.\n",
    "    \"\"\"\n",
    "    bucket = row['temp_bucket']\n",
    "    weekday = row['working_day']\n",
    "    hour = row['Hour']\n",
    "    \n",
    "    cond = (train['temp_bucket'] == bucket)&(train['working_day'] == weekday)&(train['Hour'] == hour)    \n",
    "    range_of_values = train.loc[cond, 'ValuesDiff']\n",
    "    \n",
    "    return stats.percentileofscore(range_of_values, row['ValuesDiff'])"
   ]
  },
  {
   "cell_type": "code",
   "execution_count": 69,
   "metadata": {},
   "outputs": [],
   "source": [
    "train['percentile'] = train.apply(lambda row: get_percentile(row), 1)"
   ]
  },
  {
   "cell_type": "markdown",
   "metadata": {},
   "source": [
    "#### 2.8 Rule-based approach (Checking the context)"
   ]
  },
  {
   "cell_type": "code",
   "execution_count": 70,
   "metadata": {},
   "outputs": [],
   "source": [
    " def check_context(idx):\n",
    "    \"\"\"\n",
    "    The main idea of that function is to detect and eliminate anomalies that come from abnormal\n",
    "    contexts. For instance, if there is a conference takes place in the building for an entire\n",
    "    week, the energy consumption levels will be higher than the 'normal' days but it won't\n",
    "    necessarily be classified as overconsumption. So the idea is to detect these kind of weeks \n",
    "    and ignore any alarm that the predictive model might throw in that period of time.\n",
    "    \n",
    "    This function checks whether the pattern of a certain meter neighbourhood value is high \n",
    "    across the entire week. It compares the pattern percentiles for the precedent week against\n",
    "    the two former weeks. It returns the number of days it went higher.\n",
    "    \n",
    "    Arguments:\n",
    "        idx: index of the meter measurement, i.e., dataset row.\n",
    "    \"\"\"\n",
    "    ans = 0\n",
    "    \n",
    "    for j in range(7):\n",
    "        week_n   = train.loc[idx-8-j*96       :idx+8-j*96, 'percentile'].mean()\n",
    "        week_n_1 = train.loc[idx-8-j*96-96*7*1:idx+8-j*96-96*7*1, 'percentile'].mean()\n",
    "        week_n_2 = train.loc[idx-8-j*96-96*7*2:idx+8-j*96-96*7*2, 'percentile'].mean()\n",
    "        \n",
    "        ans += (week_n > week_n_1 + 10)*1 + (week_n > week_n_2 + 10)*1\n",
    "    \n",
    "    return ans"
   ]
  },
  {
   "cell_type": "code",
   "execution_count": 71,
   "metadata": {},
   "outputs": [],
   "source": [
    "# Here is an illustration of what can be detected by this model\n",
    "\n",
    "fig, ax1 = plt.subplots(figsize=(16, 8))\n",
    "begin = 55234-96\n",
    "end = 55234+1+96\n",
    "consumption = train.loc[begin:end, 'ValuesDiff'].values - train.loc[begin:end, 'ValuesDiff'].min()\n",
    "consumption = 100*consumption/(train.loc[begin:end, 'ValuesDiff'].max()-train.loc[begin:end, 'ValuesDiff'].min())\n",
    "slide = 55234\n",
    "ax1.plot(train.loc[begin:end, 'percentile'].values)\n",
    "ax1.plot(consumption, color = \"green\")\n",
    "ax1.set_ylim([0, 100])\n",
    "ax2 = ax1.twinx()\n",
    "ax2.plot(train.loc[begin:end, 'criteria'].values, color=\"red\", linestyle=\":\", linewidth=3)\n",
    "ax2.set_ylim([-16, 16])\n",
    "plt.show()"
   ]
  },
  {
   "cell_type": "markdown",
   "metadata": {},
   "source": [
    "#### 2.9 The algorithm"
   ]
  },
  {
   "cell_type": "markdown",
   "metadata": {},
   "source": [
    "Two modifications have been done for this site since there is no measurement with criteria > 11.\n",
    "\n",
    "<li>Criteria Threshold: 6 (instead of 11)</li>\n",
    "<li>Anomaly duration: at least half hour (instead of at least an hour) </li>"
   ]
  },
  {
   "cell_type": "code",
   "execution_count": 102,
   "metadata": {},
   "outputs": [],
   "source": [
    "# Initialization\n",
    "train['is_abnormal'] = False\n",
    "\n",
    "# Detecting the beggining of anomalies (Prediction-Based approach)\n",
    "train.loc[train['criteria']>6, 'is_abnormal'] = True\n",
    "\n",
    "# Filtering process (Rule-based approach)\n",
    "for idx in train[train['is_abnormal']].index:\n",
    "    \n",
    "    # Eliminating abnormal energy consumption contexts\n",
    "    if check_context(idx) > 8:\n",
    "        train.loc[idx, 'is_abnormal'] = False\n",
    "        continue\n",
    "        \n",
    "    # Eliminating low percentile anomalies\n",
    "    if train.loc[idx, 'percentile'] < 90:\n",
    "        train.loc[idx, 'is_abnormal'] = False\n",
    "        continue\n",
    "    \n",
    "    # Eliminating anomalies that come just after na values\n",
    "    if train.loc[idx-5:idx-1, 'Values'].min() < 0:\n",
    "        train.loc[idx, 'is_abnormal'] = False\n",
    "        continue\n",
    "    \n",
    "    # Anomalies should begin just after a ascending percentile pattern\n",
    "    if train.loc[idx-5:idx-1, 'percentile'].mean() >= 80:\n",
    "        train.loc[idx, 'is_abnormal'] = False\n",
    "\n",
    "# Extending the duration of the anomalies\n",
    "for idx in train[train['is_abnormal']].index:\n",
    "    k=0\n",
    "    moving_average = train.loc[idx, 'percentile']\n",
    "    while (moving_average >= 80):\n",
    "        train.loc[idx+k, 'is_abnormal'] = True\n",
    "        k+=1\n",
    "        moving_average = 0.2*moving_average + 0.8*train.loc[idx+k, 'percentile']\n",
    "\n",
    "    # Eliminating anomalies that last less than half an hour\n",
    "    if k < 2:\n",
    "        train.loc[idx:idx+k, 'is_abnormal'] = False"
   ]
  },
  {
   "cell_type": "code",
   "execution_count": null,
   "metadata": {},
   "outputs": [],
   "source": []
  },
  {
   "cell_type": "code",
   "execution_count": 103,
   "metadata": {},
   "outputs": [
    {
     "data": {
      "text/plain": [
       "1750"
      ]
     },
     "execution_count": 103,
     "metadata": {},
     "output_type": "execute_result"
    }
   ],
   "source": [
    "sum(train['is_abnormal'])"
   ]
  },
  {
   "cell_type": "markdown",
   "metadata": {},
   "source": [
    "#### 2.10 Illustration of the anomalies found"
   ]
  },
  {
   "cell_type": "code",
   "execution_count": 104,
   "metadata": {},
   "outputs": [],
   "source": [
    "fig, ax1 = plt.subplots(figsize=(16, 8))\n",
    "anamolyno=12\n",
    "begin = 55234-48\n",
    "end = 55234+1+48\n",
    "ax1.plot(train.loc[begin:end, 'percentile'])\n",
    "ax1.plot(train[train['is_abnormal']].loc[begin:end, 'percentile'], color = \"green\", linewidth=10, linestyle=\":\")\n",
    "ax1.set_ylim([0, 100])\n",
    "ax2 = ax1.twinx()\n",
    "ax2.plot(train.loc[begin:end, 'criteria'], color=\"red\")\n",
    "ax2.set_ylim([-16, 16])\n",
    "plt.show()"
   ]
  },
  {
   "cell_type": "code",
   "execution_count": 117,
   "metadata": {},
   "outputs": [],
   "source": [
    "anamolyno=2\n",
    "fig, ax1 = plt.subplots(figsize=(16, 8))\n",
    "slide = train.loc[train['is_abnormal']==True].index[anamolyno]\n",
    "begin = slide-96\n",
    "end = slide+1+96\n",
    "consumption = train.loc[begin:end, 'ValuesDiff'].values - train.loc[begin:end, 'ValuesDiff'].min()\n",
    "consumption = 100*consumption/(train.loc[begin:end, 'ValuesDiff'].max()-train.loc[begin:end, 'ValuesDiff'].min())\n",
    "timestamp=train.loc[begin:end,'Timestamp']\n",
    "ax1.plot(timestamp,train.loc[begin:end, 'percentile'].values)\n",
    "ax1.plot(timestamp,consumption, color = \"green\")\n",
    "ax1.set_ylim([0, 100])\n",
    "ax2 = ax1.twinx()\n",
    "ax2.plot(timestamp,train.loc[begin:end, 'criteria'].values, color=\"red\", linestyle=\":\", linewidth=3)\n",
    "plt.show()"
   ]
  },
  {
   "cell_type": "code",
   "execution_count": 105,
   "metadata": {},
   "outputs": [
    {
     "data": {
      "text/plain": [
       "<AxesSubplot:xlabel='Timestamp'>"
      ]
     },
     "execution_count": 105,
     "metadata": {},
     "output_type": "execute_result"
    }
   ],
   "source": [
    "train.plot(x='Timestamp',y='v')"
   ]
  },
  {
   "cell_type": "code",
   "execution_count": 106,
   "metadata": {},
   "outputs": [
    {
     "data": {
      "text/html": [
       "<div>\n",
       "<style scoped>\n",
       "    .dataframe tbody tr th:only-of-type {\n",
       "        vertical-align: middle;\n",
       "    }\n",
       "\n",
       "    .dataframe tbody tr th {\n",
       "        vertical-align: top;\n",
       "    }\n",
       "\n",
       "    .dataframe thead th {\n",
       "        text-align: right;\n",
       "    }\n",
       "</style>\n",
       "<table border=\"1\" class=\"dataframe\">\n",
       "  <thead>\n",
       "    <tr style=\"text-align: right;\">\n",
       "      <th></th>\n",
       "      <th>Timestamp</th>\n",
       "      <th>meter_id</th>\n",
       "      <th>Values</th>\n",
       "      <th>Weekday</th>\n",
       "      <th>Hour</th>\n",
       "      <th>Month</th>\n",
       "      <th>ValuesDiff</th>\n",
       "      <th>Holiday</th>\n",
       "      <th>Temperature</th>\n",
       "      <th>target</th>\n",
       "      <th>entropy</th>\n",
       "      <th>predicted</th>\n",
       "      <th>gap</th>\n",
       "      <th>criteria</th>\n",
       "      <th>temp_bucket</th>\n",
       "      <th>working_day</th>\n",
       "      <th>percentile</th>\n",
       "      <th>is_abnormal</th>\n",
       "      <th>v</th>\n",
       "      <th>t</th>\n",
       "    </tr>\n",
       "  </thead>\n",
       "  <tbody>\n",
       "    <tr>\n",
       "      <th>0</th>\n",
       "      <td>2016-01-01 00:15:00</td>\n",
       "      <td>38_9686</td>\n",
       "      <td>7.936775e+05</td>\n",
       "      <td>4</td>\n",
       "      <td>0</td>\n",
       "      <td>1</td>\n",
       "      <td>51.7500</td>\n",
       "      <td>1</td>\n",
       "      <td>5.0</td>\n",
       "      <td>Off</td>\n",
       "      <td>3.000000</td>\n",
       "      <td>None</td>\n",
       "      <td>0</td>\n",
       "      <td>0.000000</td>\n",
       "      <td>5.0</td>\n",
       "      <td>False</td>\n",
       "      <td>0.534759</td>\n",
       "      <td>False</td>\n",
       "      <td>NaN</td>\n",
       "      <td>0.0</td>\n",
       "    </tr>\n",
       "    <tr>\n",
       "      <th>1</th>\n",
       "      <td>2016-01-01 00:30:00</td>\n",
       "      <td>38_9686</td>\n",
       "      <td>7.937304e+05</td>\n",
       "      <td>4</td>\n",
       "      <td>0</td>\n",
       "      <td>1</td>\n",
       "      <td>52.9375</td>\n",
       "      <td>1</td>\n",
       "      <td>5.0</td>\n",
       "      <td>Off</td>\n",
       "      <td>3.000000</td>\n",
       "      <td>None</td>\n",
       "      <td>0</td>\n",
       "      <td>0.000000</td>\n",
       "      <td>5.0</td>\n",
       "      <td>False</td>\n",
       "      <td>2.673797</td>\n",
       "      <td>False</td>\n",
       "      <td>121.474940</td>\n",
       "      <td>0.0</td>\n",
       "    </tr>\n",
       "    <tr>\n",
       "      <th>2</th>\n",
       "      <td>2016-01-01 00:45:00</td>\n",
       "      <td>38_9686</td>\n",
       "      <td>7.937929e+05</td>\n",
       "      <td>4</td>\n",
       "      <td>0</td>\n",
       "      <td>1</td>\n",
       "      <td>62.5000</td>\n",
       "      <td>1</td>\n",
       "      <td>5.0</td>\n",
       "      <td>StandBy</td>\n",
       "      <td>3.000000</td>\n",
       "      <td>None</td>\n",
       "      <td>0</td>\n",
       "      <td>0.000000</td>\n",
       "      <td>5.0</td>\n",
       "      <td>False</td>\n",
       "      <td>5.347594</td>\n",
       "      <td>False</td>\n",
       "      <td>1128.984652</td>\n",
       "      <td>0.0</td>\n",
       "    </tr>\n",
       "    <tr>\n",
       "      <th>3</th>\n",
       "      <td>2016-01-01 01:00:00</td>\n",
       "      <td>38_9686</td>\n",
       "      <td>7.938486e+05</td>\n",
       "      <td>4</td>\n",
       "      <td>1</td>\n",
       "      <td>1</td>\n",
       "      <td>55.6875</td>\n",
       "      <td>1</td>\n",
       "      <td>5.0</td>\n",
       "      <td>Off</td>\n",
       "      <td>3.000000</td>\n",
       "      <td>None</td>\n",
       "      <td>0</td>\n",
       "      <td>0.000000</td>\n",
       "      <td>5.0</td>\n",
       "      <td>False</td>\n",
       "      <td>5.612245</td>\n",
       "      <td>False</td>\n",
       "      <td>-606.993750</td>\n",
       "      <td>0.0</td>\n",
       "    </tr>\n",
       "    <tr>\n",
       "      <th>4</th>\n",
       "      <td>2016-01-01 01:15:00</td>\n",
       "      <td>38_9686</td>\n",
       "      <td>7.939012e+05</td>\n",
       "      <td>4</td>\n",
       "      <td>1</td>\n",
       "      <td>1</td>\n",
       "      <td>52.6250</td>\n",
       "      <td>1</td>\n",
       "      <td>5.0</td>\n",
       "      <td>Off</td>\n",
       "      <td>3.000000</td>\n",
       "      <td>None</td>\n",
       "      <td>0</td>\n",
       "      <td>0.000000</td>\n",
       "      <td>5.0</td>\n",
       "      <td>False</td>\n",
       "      <td>2.040816</td>\n",
       "      <td>False</td>\n",
       "      <td>-289.407969</td>\n",
       "      <td>0.0</td>\n",
       "    </tr>\n",
       "    <tr>\n",
       "      <th>...</th>\n",
       "      <td>...</td>\n",
       "      <td>...</td>\n",
       "      <td>...</td>\n",
       "      <td>...</td>\n",
       "      <td>...</td>\n",
       "      <td>...</td>\n",
       "      <td>...</td>\n",
       "      <td>...</td>\n",
       "      <td>...</td>\n",
       "      <td>...</td>\n",
       "      <td>...</td>\n",
       "      <td>...</td>\n",
       "      <td>...</td>\n",
       "      <td>...</td>\n",
       "      <td>...</td>\n",
       "      <td>...</td>\n",
       "      <td>...</td>\n",
       "      <td>...</td>\n",
       "      <td>...</td>\n",
       "      <td>...</td>\n",
       "    </tr>\n",
       "    <tr>\n",
       "      <th>67619</th>\n",
       "      <td>2017-12-05 09:00:00</td>\n",
       "      <td>38_9686</td>\n",
       "      <td>1.062107e+06</td>\n",
       "      <td>1</td>\n",
       "      <td>9</td>\n",
       "      <td>12</td>\n",
       "      <td>368.3750</td>\n",
       "      <td>0</td>\n",
       "      <td>-5.7</td>\n",
       "      <td>VeryHigh</td>\n",
       "      <td>1.044054</td>\n",
       "      <td>VeryHigh</td>\n",
       "      <td>0</td>\n",
       "      <td>0.000000</td>\n",
       "      <td>-5.0</td>\n",
       "      <td>True</td>\n",
       "      <td>80.434783</td>\n",
       "      <td>False</td>\n",
       "      <td>-997.251568</td>\n",
       "      <td>0.0</td>\n",
       "    </tr>\n",
       "    <tr>\n",
       "      <th>67620</th>\n",
       "      <td>2017-12-05 09:15:00</td>\n",
       "      <td>38_9686</td>\n",
       "      <td>1.062506e+06</td>\n",
       "      <td>1</td>\n",
       "      <td>9</td>\n",
       "      <td>12</td>\n",
       "      <td>398.7500</td>\n",
       "      <td>0</td>\n",
       "      <td>-5.7</td>\n",
       "      <td>VeryHigh</td>\n",
       "      <td>1.051636</td>\n",
       "      <td>VeryHigh</td>\n",
       "      <td>0</td>\n",
       "      <td>0.000000</td>\n",
       "      <td>-5.0</td>\n",
       "      <td>True</td>\n",
       "      <td>92.391304</td>\n",
       "      <td>False</td>\n",
       "      <td>3287.962335</td>\n",
       "      <td>0.0</td>\n",
       "    </tr>\n",
       "    <tr>\n",
       "      <th>67621</th>\n",
       "      <td>2017-12-05 09:30:00</td>\n",
       "      <td>38_9686</td>\n",
       "      <td>NaN</td>\n",
       "      <td>1</td>\n",
       "      <td>9</td>\n",
       "      <td>12</td>\n",
       "      <td>-1.0000</td>\n",
       "      <td>0</td>\n",
       "      <td>-5.7</td>\n",
       "      <td>Off</td>\n",
       "      <td>1.057056</td>\n",
       "      <td>VeryHigh</td>\n",
       "      <td>-8</td>\n",
       "      <td>-55.834158</td>\n",
       "      <td>-5.0</td>\n",
       "      <td>True</td>\n",
       "      <td>1.630435</td>\n",
       "      <td>False</td>\n",
       "      <td>100.250784</td>\n",
       "      <td>-0.0</td>\n",
       "    </tr>\n",
       "    <tr>\n",
       "      <th>67622</th>\n",
       "      <td>2017-12-05 09:45:00</td>\n",
       "      <td>38_9686</td>\n",
       "      <td>NaN</td>\n",
       "      <td>1</td>\n",
       "      <td>9</td>\n",
       "      <td>12</td>\n",
       "      <td>-1.0000</td>\n",
       "      <td>0</td>\n",
       "      <td>-5.7</td>\n",
       "      <td>Off</td>\n",
       "      <td>1.055175</td>\n",
       "      <td>VeryHigh</td>\n",
       "      <td>-8</td>\n",
       "      <td>-55.939254</td>\n",
       "      <td>-5.0</td>\n",
       "      <td>True</td>\n",
       "      <td>1.630435</td>\n",
       "      <td>False</td>\n",
       "      <td>-0.000000</td>\n",
       "      <td>-0.0</td>\n",
       "    </tr>\n",
       "    <tr>\n",
       "      <th>67623</th>\n",
       "      <td>2017-12-05 10:00:00</td>\n",
       "      <td>38_9686</td>\n",
       "      <td>NaN</td>\n",
       "      <td>1</td>\n",
       "      <td>10</td>\n",
       "      <td>12</td>\n",
       "      <td>0.0000</td>\n",
       "      <td>0</td>\n",
       "      <td>-5.7</td>\n",
       "      <td>Off</td>\n",
       "      <td>1.107904</td>\n",
       "      <td>High</td>\n",
       "      <td>-7</td>\n",
       "      <td>-46.432782</td>\n",
       "      <td>-5.0</td>\n",
       "      <td>True</td>\n",
       "      <td>1.449275</td>\n",
       "      <td>False</td>\n",
       "      <td>-0.000000</td>\n",
       "      <td>0.0</td>\n",
       "    </tr>\n",
       "  </tbody>\n",
       "</table>\n",
       "<p>67624 rows × 20 columns</p>\n",
       "</div>"
      ],
      "text/plain": [
       "                Timestamp meter_id        Values  Weekday  Hour  Month  \\\n",
       "0     2016-01-01 00:15:00  38_9686  7.936775e+05        4     0      1   \n",
       "1     2016-01-01 00:30:00  38_9686  7.937304e+05        4     0      1   \n",
       "2     2016-01-01 00:45:00  38_9686  7.937929e+05        4     0      1   \n",
       "3     2016-01-01 01:00:00  38_9686  7.938486e+05        4     1      1   \n",
       "4     2016-01-01 01:15:00  38_9686  7.939012e+05        4     1      1   \n",
       "...                   ...      ...           ...      ...   ...    ...   \n",
       "67619 2017-12-05 09:00:00  38_9686  1.062107e+06        1     9     12   \n",
       "67620 2017-12-05 09:15:00  38_9686  1.062506e+06        1     9     12   \n",
       "67621 2017-12-05 09:30:00  38_9686           NaN        1     9     12   \n",
       "67622 2017-12-05 09:45:00  38_9686           NaN        1     9     12   \n",
       "67623 2017-12-05 10:00:00  38_9686           NaN        1    10     12   \n",
       "\n",
       "       ValuesDiff  Holiday  Temperature    target   entropy predicted  gap  \\\n",
       "0         51.7500        1          5.0       Off  3.000000      None    0   \n",
       "1         52.9375        1          5.0       Off  3.000000      None    0   \n",
       "2         62.5000        1          5.0   StandBy  3.000000      None    0   \n",
       "3         55.6875        1          5.0       Off  3.000000      None    0   \n",
       "4         52.6250        1          5.0       Off  3.000000      None    0   \n",
       "...           ...      ...          ...       ...       ...       ...  ...   \n",
       "67619    368.3750        0         -5.7  VeryHigh  1.044054  VeryHigh    0   \n",
       "67620    398.7500        0         -5.7  VeryHigh  1.051636  VeryHigh    0   \n",
       "67621     -1.0000        0         -5.7       Off  1.057056  VeryHigh   -8   \n",
       "67622     -1.0000        0         -5.7       Off  1.055175  VeryHigh   -8   \n",
       "67623      0.0000        0         -5.7       Off  1.107904      High   -7   \n",
       "\n",
       "        criteria  temp_bucket  working_day  percentile  is_abnormal  \\\n",
       "0       0.000000          5.0        False    0.534759        False   \n",
       "1       0.000000          5.0        False    2.673797        False   \n",
       "2       0.000000          5.0        False    5.347594        False   \n",
       "3       0.000000          5.0        False    5.612245        False   \n",
       "4       0.000000          5.0        False    2.040816        False   \n",
       "...          ...          ...          ...         ...          ...   \n",
       "67619   0.000000         -5.0         True   80.434783        False   \n",
       "67620   0.000000         -5.0         True   92.391304        False   \n",
       "67621 -55.834158         -5.0         True    1.630435        False   \n",
       "67622 -55.939254         -5.0         True    1.630435        False   \n",
       "67623 -46.432782         -5.0         True    1.449275        False   \n",
       "\n",
       "                 v    t  \n",
       "0              NaN  0.0  \n",
       "1       121.474940  0.0  \n",
       "2      1128.984652  0.0  \n",
       "3      -606.993750  0.0  \n",
       "4      -289.407969  0.0  \n",
       "...            ...  ...  \n",
       "67619  -997.251568  0.0  \n",
       "67620  3287.962335  0.0  \n",
       "67621   100.250784 -0.0  \n",
       "67622    -0.000000 -0.0  \n",
       "67623    -0.000000  0.0  \n",
       "\n",
       "[67624 rows x 20 columns]"
      ]
     },
     "execution_count": 106,
     "metadata": {},
     "output_type": "execute_result"
    }
   ],
   "source": [
    "train"
   ]
  },
  {
   "cell_type": "code",
   "execution_count": 111,
   "metadata": {},
   "outputs": [],
   "source": [
    "train['v']=train['ValuesDiff'].pct_change()*100*train['ValuesDiff']\n",
    "train.loc[train['is_abnormal']==True,'t']=1\n",
    "train.loc[train['is_abnormal']==False,'t']=0\n",
    "train['t']=train['t']*train['ValuesDiff']"
   ]
  },
  {
   "cell_type": "code",
   "execution_count": 115,
   "metadata": {},
   "outputs": [
    {
     "name": "stdout",
     "output_type": "stream",
     "text": [
      "Using matplotlib backend: Qt5Agg\n"
     ]
    }
   ],
   "source": [
    "%matplotlib\n",
    "anamolyno=12\n",
    "fig, ax1 = plt.subplots(figsize=(16, 8))\n",
    "ax1.plot(train['Timestamp'],train['ValuesDiff'],color = \"green\")\n",
    "#ax1.set_ylim([0, 100])\n",
    "ax2 = ax1.twinx()\n",
    "ax2.scatter(train['Timestamp'],train['t'], color=\"red\",)\n",
    "plt.show()"
   ]
  },
  {
   "cell_type": "code",
   "execution_count": null,
   "metadata": {},
   "outputs": [],
   "source": []
  }
 ],
 "metadata": {
  "kernelspec": {
   "display_name": "Python 3",
   "language": "python",
   "name": "python3"
  },
  "language_info": {
   "codemirror_mode": {
    "name": "ipython",
    "version": 3
   },
   "file_extension": ".py",
   "mimetype": "text/x-python",
   "name": "python",
   "nbconvert_exporter": "python",
   "pygments_lexer": "ipython3",
   "version": "3.8.5"
  }
 },
 "nbformat": 4,
 "nbformat_minor": 2
}
